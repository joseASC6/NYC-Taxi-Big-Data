{
 "cells": [
  {
   "cell_type": "code",
   "execution_count": null,
   "metadata": {},
   "outputs": [],
   "source": [
    "import pandas as pd\n",
    "from google.cloud import storage"
   ]
  },
  {
   "cell_type": "code",
   "execution_count": null,
   "metadata": {},
   "outputs": [],
   "source": [
    "bucket_name = 'my-bigdataproject-jg'\n",
    "gs_path  = f'gs://{bucket_name}/landing/'\n",
    "\n",
    "boroughs = ['Manhattan', 'Brooklyn']\n",
    "years = [2021, 2022, 2023]"
   ]
  },
  {
   "cell_type": "code",
   "execution_count": null,
   "metadata": {},
   "outputs": [],
   "source": [
    "storage_client = storage.Client() \n",
    "bucket = storage_client.get_bucket(bucket_name)\n",
    "destination_folder = 'cleaned/'"
   ]
  },
  {
   "cell_type": "code",
   "execution_count": null,
   "metadata": {},
   "outputs": [],
   "source": [
    "def get_data(borough, year):\n",
    "    print(f'Getting data for {borough} in {year}')\n",
    "    file_name = f'{borough}_{year}.csv'\n",
    "    blob = bucket.blob(f'{gs_path}{file_name}')\n",
    "    blob.download_to_filename(file_name)\n",
    "    return pd.read_csv(file_name)"
   ]
  },
  {
   "cell_type": "code",
   "execution_count": 1,
   "metadata": {},
   "outputs": [],
   "source": [
    "\"\"\"\n",
    "Columns to keep:\n",
    "name \n",
    "datetime\n",
    "tempmax\n",
    "tempmin\n",
    "temp\n",
    "feelslikemax\n",
    "feelslikemin\n",
    "feelslike\n",
    "humidity\n",
    "precip\n",
    "preciptype\n",
    "snow\n",
    "snowdepth\n",
    "windspeed\n",
    "cloudcover\n",
    "visibility\n",
    "uvindex\n",
    "sunrise\n",
    "sunset\n",
    "conditions\n",
    "\"\"\"\n",
    "def clean_data(df):\n",
    "    print('Cleaning data')\n",
    "    # Keep only the columns we need\n",
    "    df = df[['name', 'datetime', 'tempmax', 'tempmin', 'temp', 'feelslikemax', 'feelslikemin', 'feelslike', 'humidity', 'precip', 'preciptype', 'snow', 'snowdepth', 'windspeed', 'cloudcover', 'visibility', 'uvindex', 'sunrise', 'sunset', 'conditions']]\n",
    "\n",
    "    # Set the data types\n",
    "    # Set to datetime\n",
    "    df['datetime'] = pd.to_datetime(df['datetime'])\n",
    "    df['sunrise'] = pd.to_datetime(df['sunrise'])\n",
    "    df['sunset'] = pd.to_datetime(df['sunset'])\n",
    "\n",
    "    # Set to string\n",
    "    df['name'] = df['name'].astype('string')\n",
    "    df['preciptype'] = df['preciptype'].astype('string')\n",
    "    df['conditions'] = df['conditions'].astype('string')\n",
    "\n",
    "    # Set to double\n",
    "    df['tempmax'] = df['tempmax'].astype('float64')\n",
    "    df['tempmin'] = df['tempmin'].astype('float64')\n",
    "    df['temp'] = df['temp'].astype('float64')\n",
    "    df['feelslikemax'] = df['feelslikemax'].astype('float64')\n",
    "    df['feelslikemin'] = df['feelslikemin'].astype('float64')\n",
    "    df['feelslike'] = df['feelslike'].astype('float64')\n",
    "    df['humidity'] = df['humidity'].astype('float64')\n",
    "    df['precip'] = df['precip'].astype('float64')\n",
    "    df['snow'] = df['snow'].astype('float64')\n",
    "    df['snowdepth'] = df['snowdepth'].astype('float64')\n",
    "    df['windspeed'] = df['windspeed'].astype('float64')\n",
    "    df['cloudcover'] = df['cloudcover'].astype('float64')\n",
    "    df['visibility'] = df['visibility'].astype('float64')\n",
    "\n",
    "    # Set to int\n",
    "    df['uvindex'] = df['uvindex'].astype('Int64')\n",
    "\n",
    "    # Drop rows with missing values\n",
    "    df = df.dropna()\n",
    "    print('Data cleaned')\n",
    "    return df"
   ]
  },
  {
   "cell_type": "code",
   "execution_count": null,
   "metadata": {},
   "outputs": [],
   "source": [
    "def upload_data(df, borough, year):\n",
    "    file_name = f'{borough}_{year}.csv'\n",
    "    print(f'Uploading: {file_name}')\n",
    "    df.to_csv(file_name, index=False)\n",
    "    blob = bucket.blob(f'{gs_path}{destination_folder}{file_name}')\n",
    "    blob.upload_from_filename(file_name)\n",
    "    print(f'{file_name} uploaded')"
   ]
  },
  {
   "cell_type": "code",
   "execution_count": null,
   "metadata": {},
   "outputs": [],
   "source": [
    "if __name__ == \"__main__\":\n",
    "    print('Starting data cleaning')\n",
    "    for borough in boroughs:\n",
    "        for year in years:\n",
    "            df = get_data(borough, year)\n",
    "            df = clean_data(df)\n",
    "            upload_data(df, borough, year)\n",
    "    print('Data cleaning complete')"
   ]
  }
 ],
 "metadata": {
  "kernelspec": {
   "display_name": "Python 3",
   "language": "python",
   "name": "python3"
  },
  "language_info": {
   "codemirror_mode": {
    "name": "ipython",
    "version": 3
   },
   "file_extension": ".py",
   "mimetype": "text/x-python",
   "name": "python",
   "nbconvert_exporter": "python",
   "pygments_lexer": "ipython3",
   "version": "3.11.3"
  }
 },
 "nbformat": 4,
 "nbformat_minor": 2
}
