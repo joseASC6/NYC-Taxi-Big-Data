{
 "cells": [
  {
   "cell_type": "code",
   "execution_count": null,
   "metadata": {},
   "outputs": [],
   "source": [
    "spark"
   ]
  },
  {
   "cell_type": "code",
   "execution_count": null,
   "metadata": {},
   "outputs": [],
   "source": [
    "import pandas as pd\n",
    "import matplotlib.pyplot as plt\n",
    "import numpy as np\n",
    "from google.cloud import storage\n",
    "from io import BytesIO\n",
    "from datetime import datetime, date\n",
    "\n",
    "import pyspark\n",
    "from pyspark.sql import SparkSession\n",
    "from pyspark.sql.types import StringType, BooleanType, IntegerType , DateType, FloatType, StructType, StructField\n",
    "from pyspark.sql.functions import col, isnan, when, count, udf, to_date, year, month, date_format, size, split, dayofweek\n",
    "from pyspark.sql import functions as F"
   ]
  },
  {
   "cell_type": "markdown",
   "metadata": {},
   "source": [
    "# Taxi Data Frame"
   ]
  },
  {
   "cell_type": "code",
   "execution_count": null,
   "metadata": {},
   "outputs": [],
   "source": [
    "bucket_name = 'my-bigdataproject-jg'\n",
    "gs_path  = f'gs://{bucket_name}/'\n",
    "landing_folder = 'landing/'\n",
    "cleaned_folder = 'cleaned/'\n",
    "destination_folder = 'code_and_models/'\n",
    "\n",
    "storage_client = storage.Client() \n",
    "bucket = storage_client.get_bucket(bucket_name)"
   ]
  },
  {
   "cell_type": "code",
   "execution_count": null,
   "metadata": {},
   "outputs": [],
   "source": [
    "data_years = [2021, 2022, 2023]\n",
    "months = ['01', '02', '03', '04', '05', '06', '07', '08', '09', '10', '11', '12']\n",
    "\n",
    "taxi_file_path = gs_path + landing_folder\n",
    "taxi_file_list = [taxi_file_path + f'yellow_tripdata_{year}-{month}.parquet' for year in data_years for month in months]\n",
    "\n",
    "taxi_df = None\n",
    "for file in taxi_file_list:\n",
    "    df = spark.read.parquet(file)\n",
    "    df = df.withColumn('VendorID', df['VendorID'].cast(IntegerType()))\n",
    "    df = df.withColumn('passenger_count', df['passenger_count'].cast(IntegerType()))\n",
    "    if taxi_df is None:\n",
    "        taxi_df = df\n",
    "    else:\n",
    "        taxi_df = taxi_df.union(df)\n",
    "\n",
    "taxi_df.show(5)"
   ]
  },
  {
   "cell_type": "code",
   "execution_count": null,
   "metadata": {},
   "outputs": [],
   "source": [
    "print(f'Number of records in the dataframe: {taxi_df.count():,}')"
   ]
  },
  {
   "cell_type": "markdown",
   "metadata": {},
   "source": [
    "# Date Range"
   ]
  },
  {
   "cell_type": "code",
   "execution_count": null,
   "metadata": {},
   "outputs": [],
   "source": [
    "taxi_df = taxi_df.filter((col('tpep_pickup_datetime') >= '2021-01-01') & (col('tpep_pickup_datetime') < '2024-01-01'))\n",
    "taxi_df = taxi_df.filter((col('tpep_dropoff_datetime') >= '2021-01-01') & (col('tpep_dropoff_datetime') < '2024-01-02'))\n",
    "\n",
    "taxi_df.select(F.min('tpep_pickup_datetime'), F.max('tpep_pickup_datetime')).show()\n",
    "taxi_df.select(F.min('tpep_dropoff_datetime'), F.max('tpep_dropoff_datetime')).show()\n",
    "\n",
    "# rename tpep_pickup_datetime and tpep_dropoff_datetime columns to pickup_datetime and dropoff_datetime\n",
    "taxi_df = taxi_df.withColumnRenamed('tpep_pickup_datetime', 'pickup_datetime')\n",
    "taxi_df = taxi_df.withColumnRenamed('tpep_dropoff_datetime', 'dropoff_datetime')\n"
   ]
  },
  {
   "cell_type": "markdown",
   "metadata": {},
   "source": [
    "# payment_type"
   ]
  },
  {
   "cell_type": "code",
   "execution_count": null,
   "metadata": {},
   "outputs": [],
   "source": [
    "# payment_type = 6 are voided trips\n",
    "taxi_df = taxi_df.filter(col('payment_type') != 6)"
   ]
  },
  {
   "cell_type": "markdown",
   "metadata": {},
   "source": [
    "# RatecodeID"
   ]
  },
  {
   "cell_type": "code",
   "execution_count": null,
   "metadata": {},
   "outputs": [],
   "source": [
    "# 1 is standard rate, 2 is JFK, 6 is group ride, 99 is unknown\n",
    "allowed_rate_codes = [1, 2, 6, 99]\n",
    "# fill the empty RatecodeID with 99\n",
    "taxi_df = taxi_df.withColumn('RatecodeID', when(col('RatecodeID').isNull(), 99).otherwise(col('RatecodeID')))\n",
    "# Change RatecodeID to an integer\n",
    "taxi_df = taxi_df.withColumn('RatecodeID', taxi_df['RatecodeID'].cast(IntegerType()))\n",
    "# filter the RatecodeID to only include the allowed values\n",
    "taxi_df = taxi_df.filter(col('RatecodeID').isin(allowed_rate_codes))"
   ]
  },
  {
   "cell_type": "markdown",
   "metadata": {},
   "source": [
    "# passenger_count"
   ]
  },
  {
   "cell_type": "code",
   "execution_count": null,
   "metadata": {},
   "outputs": [],
   "source": [
    "taxi_df = taxi_df.fillna({'passenger_count': 0})\n",
    "taxi_df = taxi_df.filter(col('passenger_count') <= 7)\n"
   ]
  },
  {
   "cell_type": "code",
   "execution_count": null,
   "metadata": {},
   "outputs": [],
   "source": [
    "print(f'Number of records in the dataframe: {taxi_df.count():,}')"
   ]
  },
  {
   "cell_type": "markdown",
   "metadata": {},
   "source": [
    "# fare_amount"
   ]
  },
  {
   "cell_type": "code",
   "execution_count": null,
   "metadata": {},
   "outputs": [],
   "source": [
    "\n",
    "taxi_df = taxi_df.filter((col('fare_amount') >= 3) & (col('fare_amount') <= 250))\n"
   ]
  },
  {
   "cell_type": "markdown",
   "metadata": {},
   "source": [
    "# total_amount"
   ]
  },
  {
   "cell_type": "code",
   "execution_count": null,
   "metadata": {},
   "outputs": [],
   "source": [
    "\n",
    "taxi_df = taxi_df.filter((col('total_amount') > 3) & (col('total_amount') < 400))"
   ]
  },
  {
   "cell_type": "markdown",
   "metadata": {},
   "source": [
    "# tip_amount"
   ]
  },
  {
   "cell_type": "code",
   "execution_count": null,
   "metadata": {},
   "outputs": [],
   "source": [
    "# tip amount should be less than 150 and greater than 0\n",
    "taxi_df = taxi_df.filter((col('tip_amount') >= 0) & (col('tip_amount') < 150))"
   ]
  },
  {
   "cell_type": "markdown",
   "metadata": {},
   "source": [
    "# tip_percentage"
   ]
  },
  {
   "cell_type": "code",
   "execution_count": null,
   "metadata": {},
   "outputs": [],
   "source": [
    "# Create a tip percentage column\n",
    "taxi_df = taxi_df.withColumn('tip_percentage', col('tip_amount') / col('total_amount') * 100)"
   ]
  },
  {
   "cell_type": "markdown",
   "metadata": {},
   "source": [
    "# trip_distance"
   ]
  },
  {
   "cell_type": "code",
   "execution_count": null,
   "metadata": {},
   "outputs": [],
   "source": [
    "# trip_distance should be greater than 0 and less than 60\n",
    "taxi_df = taxi_df.filter((col('trip_distance') > 0) & (col('trip_distance') < 60))"
   ]
  },
  {
   "cell_type": "markdown",
   "metadata": {},
   "source": [
    "# Saving the cleaned taxi data"
   ]
  },
  {
   "cell_type": "code",
   "execution_count": null,
   "metadata": {},
   "outputs": [],
   "source": [
    "# Summarize the fare_amount, tip_amount, total_amount, tip_percentage, trip_distance\n",
    "taxi_df.select('fare_amount', 'tip_amount', 'total_amount', 'tip_percentage', 'trip_distance').summary().show()"
   ]
  },
  {
   "cell_type": "code",
   "execution_count": null,
   "metadata": {},
   "outputs": [],
   "source": [
    "# Schema for the cleaned data\n",
    "taxi_df = taxi_df.select('pickup_datetime', 'dropoff_datetime', 'passenger_count', 'trip_distance', 'RatecodeID', 'PULocationID', 'DOLocationID', 'fare_amount', 'tip_amount', 'total_amount', 'tip_percentage')\n",
    "taxi_df.printSchema()"
   ]
  },
  {
   "cell_type": "code",
   "execution_count": null,
   "metadata": {},
   "outputs": [],
   "source": [
    "# save the cleaned data\n",
    "print('Saving the cleaned data')\n",
    "taxi_df.write.mode('overwrite').parquet(gs_path + cleaned_folder + 'taxi_data/')\n",
    "print('Data saved successfully')"
   ]
  }
 ],
 "metadata": {
  "kernelspec": {
   "display_name": "Python 3",
   "language": "python",
   "name": "python3"
  },
  "language_info": {
   "name": "python",
   "version": "3.11.3"
  }
 },
 "nbformat": 4,
 "nbformat_minor": 2
}
