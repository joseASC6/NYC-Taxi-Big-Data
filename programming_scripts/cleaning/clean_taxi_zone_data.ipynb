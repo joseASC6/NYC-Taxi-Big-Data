{
 "cells": [
  {
   "cell_type": "code",
   "execution_count": null,
   "metadata": {},
   "outputs": [],
   "source": [
    "import pandas as pd\n",
    "from google.cloud import storage"
   ]
  },
  {
   "cell_type": "code",
   "execution_count": null,
   "metadata": {},
   "outputs": [],
   "source": [
    "bucket_name = 'my-bigdataproject-jg'\n",
    "gs_path  = f'gs://{bucket_name}/'\n",
    "storage_client = storage.Client() \n",
    "bucket = storage_client.get_bucket(bucket_name)\n",
    "cleaned_folder = 'cleaned/'\n",
    "landing_folder = 'landing/'"
   ]
  },
  {
   "cell_type": "code",
   "execution_count": null,
   "metadata": {},
   "outputs": [],
   "source": [
    "def get_data():\n",
    "    print('Getting data')\n",
    "    file_name = 'taxi_zones_data.csv'\n",
    "    file_path = f'{landing_folder}{file_name}'\n",
    "    blob = bucket.blob(file_path)\n",
    "    blob.download_to_filename(file_name)\n",
    "    df = pd.read_csv(file_name)\n",
    "    return df"
   ]
  },
  {
   "cell_type": "code",
   "execution_count": null,
   "metadata": {},
   "outputs": [],
   "source": [
    "def clean_data(df):\n",
    "    print('Cleaning data')\n",
    "    # Keep zone, location_id, borough\n",
    "    df = df[['zone', 'LocationID', 'borough']].copy()\n",
    "    # Set column types\n",
    "    df['zone'] = df['zone'].astype(str)\n",
    "    df['LocationID'] = df['LocationID'].astype(int)\n",
    "    df['borough'] = df['borough'].astype(str)\n",
    "\n",
    "    # Drop empty rows\n",
    "    df = df.dropna()\n",
    "    print('Data Cleaned')\n",
    "    print(df.head())\n",
    "\n",
    "    # Upload cleaned data to GCS as a Parquet file\n",
    "    file_name = 'taxi_zones_data.parquet'\n",
    "    file_path = f'{cleaned_folder}{file_name}'\n",
    "    print(f'Uploading to: \\t{file_path}')\n",
    "    df.to_parquet(file_name, engine = \"pyarrow\")\n",
    "    blob = bucket.blob(file_path)\n",
    "    blob.upload_from_filename(file_name)\n",
    "    print('Data Uploaded')\n",
    "\n",
    "\n",
    "    "
   ]
  },
  {
   "cell_type": "code",
   "execution_count": null,
   "metadata": {},
   "outputs": [],
   "source": [
    "if __name__ == \"__main__\":\n",
    "    df = get_data()\n",
    "    clean_data(df)"
   ]
  }
 ],
 "metadata": {
  "kernelspec": {
   "display_name": "base",
   "language": "python",
   "name": "python3"
  },
  "language_info": {
   "name": "python",
   "version": "3.11.4"
  }
 },
 "nbformat": 4,
 "nbformat_minor": 2
}
