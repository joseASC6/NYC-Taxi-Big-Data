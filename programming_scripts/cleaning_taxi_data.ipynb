{
 "cells": [
  {
   "cell_type": "code",
   "execution_count": 1,
   "metadata": {},
   "outputs": [],
   "source": [
    "import pandas as pd\n",
    "from google.cloud import storage"
   ]
  },
  {
   "cell_type": "code",
   "execution_count": 2,
   "metadata": {},
   "outputs": [],
   "source": [
    "bucket_name = 'my-bigdataproject-jg'\n",
    "gs_path  = f'gs://{bucket_name}/landing/'\n",
    "\n",
    "data_years = [2023]\n",
    "months = ['01', '02', '03', '04', '05', '06', '07', '08', '09', '10', '11', '12']\n"
   ]
  },
  {
   "cell_type": "code",
   "execution_count": null,
   "metadata": {},
   "outputs": [],
   "source": [
    "storage_client = storage.Client() \n",
    "bucket = storage_client.get_bucket(bucket_name)\n",
    "destination_folder = 'cleaned/'"
   ]
  },
  {
   "cell_type": "code",
   "execution_count": 3,
   "metadata": {},
   "outputs": [],
   "source": [
    "def get_data(year, month):\n",
    "    print(f'Getting data for year {year} and month {month}')\n",
    "    file_name = f'yellow_tripdata_{year}-{month}.parquet'\n",
    "    file_path = f'{gs_path}{file_name}'\n",
    "    file_path = f'landing_{file_name}'\n",
    "    df = pd.read_parquet(file_path, engine='fastparquet')\n",
    "    return df"
   ]
  },
  {
   "cell_type": "code",
   "execution_count": 4,
   "metadata": {},
   "outputs": [],
   "source": [
    "def clean_data(df, year, month):\n",
    "    print(f'Cleaning data for {year}-{month}')\n",
    "\n",
    "    # Drop the rows outside of the year range\n",
    "    df = df[df['tpep_pickup_datetime'].dt.year == year]\n",
    "\n",
    "    # Drop the rows with a negative total amount\n",
    "    df = df[df['total_amount'] >= 0]\n",
    "\n",
    "    # Drop the rows with payment type 6\n",
    "    df = df[df['payment_type'] != 6]\n",
    "\n",
    "    # Keep only the columns we need\n",
    "    df = df[['tpep_pickup_datetime', 'tpep_dropoff_datetime', 'trip_distance', 'PULocationID', 'DOLocationID', 'payment_type']]\n",
    "\n",
    "    # Rename the columns\n",
    "    df.rename(columns={'tpep_pickup_datetime': 'pickup_datetime', 'tpep_dropoff_datetime': 'dropoff_datetime'}, inplace=True)\n",
    "\n",
    "    # Set the data types\n",
    "    df['pickup_datetime'] = pd.to_datetime(df['pickup_datetime'])\n",
    "    df['dropoff_datetime'] = pd.to_datetime(df['dropoff_datetime'])\n",
    "    df['PULocationID'] = df['PULocationID'].astype('int')\n",
    "    df['DOLocationID'] = df['DOLocationID'].astype('int')\n",
    "    df['payment_type'] = df['payment_type'].astype('int')\n",
    "\n",
    "    # Drop the rows with missing values\n",
    "    df = df.dropna()\n",
    "    print(f'Cleaned data')\n",
    "    return df\n"
   ]
  },
  {
   "cell_type": "code",
   "execution_count": null,
   "metadata": {},
   "outputs": [],
   "source": [
    "def upload_data(df, year, month):\n",
    "    print(f'Uploading data for {year}-{month}')\n",
    "    file_name = f'yellow_tripdata_{year}-{month}.parquet'\n",
    "    file_path = f'{gs_path}{file_name}'\n",
    "    df.to_parquet(file_path, engine='fastparquet')\n",
    "    blob = bucket.blob(f'{destination_folder}{file_name}')\n",
    "    blob.upload_from_filename(file_path)\n",
    "    print(f'Uploaded {file_name}')\n",
    "    \n"
   ]
  },
  {
   "cell_type": "code",
   "execution_count": 5,
   "metadata": {},
   "outputs": [
    {
     "name": "stdout",
     "output_type": "stream",
     "text": [
      "\\Cleaning data for 2023-12\n",
      "   VendorID tpep_pickup_datetime tpep_dropoff_datetime  passenger_count  \\\n",
      "0       1.0  2023-12-01 00:06:06   2023-12-01 00:15:47              0.0   \n",
      "1       1.0  2023-12-01 00:22:26   2023-12-01 00:28:53              0.0   \n",
      "2       1.0  2023-12-01 00:59:44   2023-12-01 01:13:22              2.0   \n",
      "3       2.0  2023-12-01 00:22:17   2023-12-01 00:30:59              1.0   \n",
      "4       2.0  2023-12-01 00:18:16   2023-12-01 00:25:32              2.0   \n",
      "\n",
      "   trip_distance  RatecodeID store_and_fwd_flag  PULocationID  DOLocationID  \\\n",
      "0           1.10         1.0                  N         230.0          48.0   \n",
      "1           1.50         1.0                  N         142.0         238.0   \n",
      "2           2.20         1.0                  N         114.0         186.0   \n",
      "3           0.66         1.0                  N          79.0          79.0   \n",
      "4           2.20         1.0                  N         229.0         263.0   \n",
      "\n",
      "   payment_type  fare_amount  extra  mta_tax  tip_amount  tolls_amount  \\\n",
      "0           1.0         10.0    3.5      0.5        1.50           0.0   \n",
      "1           1.0          9.3    3.5      0.5        2.85           0.0   \n",
      "2           1.0         13.5    3.5      0.5        3.00           0.0   \n",
      "3           2.0          7.2    1.0      0.5        0.00           0.0   \n",
      "4           1.0         11.4    1.0      0.5        2.00           0.0   \n",
      "\n",
      "   improvement_surcharge  total_amount  congestion_surcharge  Airport_fee  \n",
      "0                    1.0         16.50                   2.5          0.0  \n",
      "1                    1.0         17.15                   2.5          0.0  \n",
      "2                    1.0         21.50                   2.5          0.0  \n",
      "3                    1.0         12.20                   2.5          0.0  \n",
      "4                    1.0         18.40                   2.5          0.0  \n"
     ]
    }
   ],
   "source": [
    "if __name__ == \"__main__\":\n",
    "    print('Starting the process')\n",
    "    months = ['12']\n",
    "    for year in data_years:\n",
    "        for month in months:\n",
    "            df = get_data(year, month)\n",
    "            clean_data = clean_data(df, year, month)\n",
    "            #upload_data(clean_data, year, month)\n",
    "            clean_data.head()\n",
    "            break\n",
    "        break\n",
    "    print('Process completed')"
   ]
  }
 ],
 "metadata": {
  "kernelspec": {
   "display_name": "Python 3",
   "language": "python",
   "name": "python3"
  },
  "language_info": {
   "codemirror_mode": {
    "name": "ipython",
    "version": 3
   },
   "file_extension": ".py",
   "mimetype": "text/x-python",
   "name": "python",
   "nbconvert_exporter": "python",
   "pygments_lexer": "ipython3",
   "version": "3.11.3"
  }
 },
 "nbformat": 4,
 "nbformat_minor": 2
}
