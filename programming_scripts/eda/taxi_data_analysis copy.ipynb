{
 "cells": [
  {
   "cell_type": "code",
   "execution_count": null,
   "metadata": {},
   "outputs": [],
   "source": [
    "import pandas as pd\n",
    "from google.cloud import storage\n",
    "from io import BytesIO\n",
    "from datetime import datetime, date\n",
    "import pandas as pd\n",
    "import matplotlib.pyplot as plt\n",
    "import glob"
   ]
  },
  {
   "cell_type": "code",
   "execution_count": null,
   "metadata": {},
   "outputs": [],
   "source": [
    "bucket_name = 'my-bigdataproject-jg'\n",
    "gs_path  = f'gs://{bucket_name}/'\n",
    "landing_folder = 'landing/'\n",
    "cleaned_folder = 'cleaned/'\n",
    "destination_folder = 'code_and_models/'\n",
    "\n",
    "storage_client = storage.Client() \n",
    "bucket = storage_client.get_bucket(bucket_name)\n",
    "\n"
   ]
  },
  {
   "cell_type": "code",
   "execution_count": null,
   "metadata": {},
   "outputs": [],
   "source": [
    "data_years = [2023]\n",
    "months = ['01', '02', '03', '04', '05', '06', '07', '08', '09', '10', '11', '12']\n",
    "\n",
    "taxi_file_path = gs_path + landing_folder\n",
    "taxi_file_list = [taxi_file_path + f'yellow_tripdata_{year}-{month}.parquet' for year in data_years for month in months]\n",
    "taxi_df = pd.concat(map(pd.read_parquet, taxi_file_list))\n",
    "\n",
    "taxi_df.head()\n",
    "        "
   ]
  },
  {
   "cell_type": "code",
   "execution_count": null,
   "metadata": {},
   "outputs": [],
   "source": [
    "# Show the number of records and columns but format the output to have a commas\n",
    "print(f\"Number of records: {taxi_df.shape[0]:,}\")\n",
    "print(f\"Number of columns: {taxi_df.shape[1]}\\n\")\n",
    "\n",
    "print(taxi_df.dtypes)\n",
    "\n",
    "print(\"\\n Missing values\")\n",
    "print(taxi_df.isnull().sum())"
   ]
  },
  {
   "cell_type": "code",
   "execution_count": null,
   "metadata": {},
   "outputs": [],
   "source": [
    "# Data Range for tpep_pickup_datetime\n",
    "print(\"\\nDate Range for tpep_pickup_datetime\")\n",
    "print(f\"Min: {taxi_df['tpep_pickup_datetime'].min()}\")\n",
    "print(f\"Max: {taxi_df['tpep_pickup_datetime'].max()}\")\n",
    "\n",
    "# Data Range for tpep_dropoff_datetime\n",
    "print(\"\\nDate Range for tpep_dropoff_datetime\")\n",
    "print(f\"Min: {taxi_df['tpep_dropoff_datetime'].min()}\")\n",
    "print(f\"Max: {taxi_df['tpep_dropoff_datetime'].max()}\")"
   ]
  },
  {
   "cell_type": "code",
   "execution_count": null,
   "metadata": {},
   "outputs": [],
   "source": [
    "# Clean up the tppep_pickup_datetime and tpep_dropoff_datetime columns\n",
    "# The min and max for both columns are within the range of 2021-01-01 to 2023-12-31\n",
    "# Remove the records that are outside of this range\n",
    "taxi_df = taxi_df[(taxi_df['tpep_pickup_datetime'] >= '2021-01-01') & (taxi_df['tpep_pickup_datetime'] <= '2023-12-31')]\n",
    "taxi_df = taxi_df[(taxi_df['tpep_dropoff_datetime'] >= '2021-01-01') & (taxi_df['tpep_dropoff_datetime'] <= '2023-12-31')]\n",
    "\n",
    "# Check the date range again\n",
    "print(\"\\nDate Range for tpep_pickup_datetime\")\n",
    "print(f\"Min: {taxi_df['tpep_pickup_datetime'].min()}\")\n",
    "print(f\"Max: {taxi_df['tpep_pickup_datetime'].max()}\")\n",
    "\n",
    "print(\"\\nDate Range for tpep_dropoff_datetime\")\n",
    "print(f\"Min: {taxi_df['tpep_dropoff_datetime'].min()}\")\n",
    "print(f\"Max: {taxi_df['tpep_dropoff_datetime'].max()}\")\n",
    "print(f\"Number of records: {taxi_df.shape[0]:,}\")"
   ]
  },
  {
   "cell_type": "code",
   "execution_count": null,
   "metadata": {},
   "outputs": [],
   "source": [
    "# Drop the passenger_count rows that are null\n",
    "df = taxi_df.dropna(subset=['passenger_count'])\n",
    "\n",
    "# Change the passenger_count column to a int\n",
    "df['passenger_count'] = df['passenger_count'].astype(int)"
   ]
  },
  {
   "cell_type": "code",
   "execution_count": 75,
   "metadata": {},
   "outputs": [],
   "source": [
    "def get_data(year, month):\n",
    "    file_name = f'yellow_tripdata_{year}-{month}.parquet'\n",
    "    file_path = f'{gs_path}{file_name}'\n",
    "    df = pd.read_parquet(file_path, engine='fastparquet')\n",
    "    return df"
   ]
  },
  {
   "cell_type": "code",
   "execution_count": null,
   "metadata": {},
   "outputs": [],
   "source": [
    "def analyze_data(df):\n",
    "    print(f\"Number of records: {len(df)}\")\n",
    "    print(f\"Number of columns: {len(df.columns)}\")\n",
    "    #print(f\"\\nColumns: {df.columns}\")\n",
    "    print(df.info())\n",
    "    #print(df.describe())\n",
    "\n",
    "    print(\"\\nMissing values:\")\n",
    "    print(df.isnull().sum())\n",
    "\n",
    "    # Analyze specific columns\n",
    "\n",
    "    # Data Range for tpep_pickup_datetime\n",
    "    print(\"\\nDate Range for tpep_pickup_datetime\")\n",
    "    print(f\"Min: {df['tpep_pickup_datetime'].min()}\")\n",
    "    print(f\"Max: {df['tpep_pickup_datetime'].max()}\")\n",
    "\n",
    "    # Data Range for tpep_dropoff_datetime\n",
    "    print(\"\\nDate Range for tpep_dropoff_datetime\")\n",
    "    print(f\"Min: {df['tpep_dropoff_datetime'].min()}\")\n",
    "    print(f\"Max: {df['tpep_dropoff_datetime'].max()}\")\n",
    "\n",
    "    # Min and Max of totalamount\n",
    "    print(\"\\nFare Amount range\")\n",
    "    print(f\"Min: {df['total_amount'].min()}\")\n",
    "    print(f\"Max: {df['total_amount'].max()}\")\n",
    "\n",
    "\n",
    "\n",
    "    # Trip Distance range\n",
    "    print(\"\\nTrip Distance Range (in miles)\")\n",
    "    print(f\"Min: {df['trip_distance'].min()}\")\n",
    "    print(f\"Max: {df['trip_distance'].max()}\")\n",
    "    print(f\"Avg: {df['trip_distance'].mean()}\")\n",
    "    print(f\"25 percentile: {df['trip_distance'].quantile(0.25)}\")\n",
    "    print(f\"75 percentile: {df['trip_distance'].quantile(0.75)}\")\n",
    "    print(f\"Median: {df['trip_distance'].median()}\")\n",
    "\n",
    "    # Passenger count range\n",
    "    print(\"\\nPassenger Count Range\")\n",
    "    print(f\"Min: {df['passenger_count'].min()}\")\n",
    "    print(f\"Max: {df['passenger_count'].max()}\")\n",
    "    print(f\"Avg: {df['passenger_count'].mean()}\")\n",
    "    print(f\"25 percentile: {df['passenger_count'].quantile(0.25)}\")\n",
    "    print(f\"75 percentile: {df['passenger_count'].quantile(0.75)}\")\n",
    "    print(f\"Median: {df['passenger_count'].median()}\")\n",
    "\n",
    "    # Print the number of trips with distance greater than 100,000 miles\n",
    "    print(\"\\nNumber of trips with distance greater than 100,000 miles\")\n",
    "    print(len(df[df['trip_distance'] > 100000]))\n",
    "\n",
    "    # Graph showing the count of trips by day throughout the month\n",
    "    df['day'] = df['tpep_pickup_datetime'].dt.day\n",
    "    df['day'].hist()\n",
    "    plt.title('Count of Trips by Day')\n",
    "    plt.xlabel('Day')\n",
    "    plt.ylabel('Count')\n",
    "    plt.show()\n",
    "\n",
    "    # Box plot of trip distance\n",
    "    df.boxplot(column='trip_distance')\n",
    "    plt.title('Trip Distance')\n",
    "    plt.show()\n",
    "    \n",
    "\n",
    "\n",
    "\n"
   ]
  },
  {
   "cell_type": "code",
   "execution_count": 77,
   "metadata": {},
   "outputs": [
    {
     "name": "stdout",
     "output_type": "stream",
     "text": [
      "\n",
      "Analyzing data for 2023-12\n",
      "Number of records: 3376567\n",
      "Number of columns: 19\n",
      "<class 'pandas.core.frame.DataFrame'>\n",
      "RangeIndex: 3376567 entries, 0 to 3376566\n",
      "Data columns (total 19 columns):\n",
      " #   Column                 Dtype         \n",
      "---  ------                 -----         \n",
      " 0   VendorID               float64       \n",
      " 1   tpep_pickup_datetime   datetime64[us]\n",
      " 2   tpep_dropoff_datetime  datetime64[us]\n",
      " 3   passenger_count        float64       \n",
      " 4   trip_distance          float64       \n",
      " 5   RatecodeID             float64       \n",
      " 6   store_and_fwd_flag     object        \n",
      " 7   PULocationID           float64       \n",
      " 8   DOLocationID           float64       \n",
      " 9   payment_type           float64       \n",
      " 10  fare_amount            float64       \n",
      " 11  extra                  float64       \n",
      " 12  mta_tax                float64       \n",
      " 13  tip_amount             float64       \n",
      " 14  tolls_amount           float64       \n",
      " 15  improvement_surcharge  float64       \n",
      " 16  total_amount           float64       \n",
      " 17  congestion_surcharge   float64       \n",
      " 18  Airport_fee            float64       \n",
      "dtypes: datetime64[us](2), float64(16), object(1)\n",
      "memory usage: 489.5+ MB\n",
      "None\n",
      "\n",
      "Missing values:\n",
      "VendorID                      0\n",
      "tpep_pickup_datetime          0\n",
      "tpep_dropoff_datetime         0\n",
      "passenger_count          180003\n",
      "trip_distance                 0\n",
      "RatecodeID               180003\n",
      "store_and_fwd_flag       180003\n",
      "PULocationID                  0\n",
      "DOLocationID                  0\n",
      "payment_type                  0\n",
      "fare_amount                   0\n",
      "extra                         0\n",
      "mta_tax                       0\n",
      "tip_amount                    0\n",
      "tolls_amount                  0\n",
      "improvement_surcharge         0\n",
      "total_amount                  0\n",
      "congestion_surcharge     180003\n",
      "Airport_fee              180003\n",
      "dtype: int64\n",
      "\n",
      "Date Range for tpep_pickup_datetime\n",
      "Min: 2002-12-31 22:16:54\n",
      "Max: 2024-01-03 19:42:57\n",
      "\n",
      "Date Range for tpep_dropoff_datetime\n",
      "Min: 2003-01-01 15:02:08\n",
      "Max: 2024-01-03 20:15:55\n",
      "\n",
      "Trip Distance Range (in miles)\n",
      "Min: 0.0\n",
      "Max: 161726.1\n",
      "Avg: 3.6762576486709704\n",
      "25 percentile: 1.0\n",
      "75 percentile: 3.25\n",
      "Median: 1.7\n",
      "\n",
      "Number of trips with distance greater than 100,000 miles\n",
      "2\n"
     ]
    },
    {
     "data": {
      "image/png": "[encoded data removed]",
      "text/plain": [
       "<Figure size 640x480 with 1 Axes>"
      ]
     },
     "metadata": {},
     "output_type": "display_data"
    },
    {
     "data": {
      "image/png": "[encoded data removed]",
      "text/plain": [
       "<Figure size 640x480 with 1 Axes>"
      ]
     },
     "metadata": {},
     "output_type": "display_data"
    }
   ],
   "source": [
    "if __name__ == \"__main__\":\n",
    "    print('Starting Analysis')\n",
    "    for year in data_years:\n",
    "        for month in months:\n",
    "            print(f\"\\nAnalyzing data for {year}-{month}\")\n",
    "            df = get_data(year, month)\n",
    "            analyze_data(df)\n",
    "    print(\"Analysis Complete\")\n"
   ]
  }
 ],
 "metadata": {
  "kernelspec": {
   "display_name": "Python 3",
   "language": "python",
   "name": "python3"
  },
  "language_info": {
   "codemirror_mode": {
    "name": "ipython",
    "version": 3
   },
   "file_extension": ".py",
   "mimetype": "text/x-python",
   "name": "python",
   "nbconvert_exporter": "python",
   "pygments_lexer": "ipython3",
   "version": "3.11.3"
  }
 },
 "nbformat": 4,
 "nbformat_minor": 2
}
