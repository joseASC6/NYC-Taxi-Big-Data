{
 "cells": [
  {
   "cell_type": "code",
   "execution_count": 1,
   "metadata": {},
   "outputs": [
    {
     "name": "stdout",
     "output_type": "stream",
     "text": [
      "Requirement already satisfied: holidays in /opt/conda/miniconda3/lib/python3.11/site-packages (0.62)\n",
      "Requirement already satisfied: python-dateutil in /opt/conda/miniconda3/lib/python3.11/site-packages (from holidays) (2.9.0)\n",
      "Requirement already satisfied: six>=1.5 in /opt/conda/miniconda3/lib/python3.11/site-packages (from python-dateutil->holidays) (1.16.0)\n",
      "\u001b[33mWARNING: Running pip as the 'root' user can result in broken permissions and conflicting behaviour with the system package manager. It is recommended to use a virtual environment instead: https://pip.pypa.io/warnings/venv\u001b[0m\u001b[33m\n",
      "\u001b[0m"
     ]
    }
   ],
   "source": [
    "!pip install holidays"
   ]
  },
  {
   "cell_type": "code",
   "execution_count": 2,
   "metadata": {},
   "outputs": [
    {
     "data": {
      "text/html": [
       "\n",
       "            <div>\n",
       "                <p><b>SparkSession - hive</b></p>\n",
       "                \n",
       "        <div>\n",
       "            <p><b>SparkContext</b></p>\n",
       "\n",
       "            <p><a href=\"http://cluster-d813-m.us-central1-c.c.cis-4130-big-data.internal:46497\">Spark UI</a></p>\n",
       "\n",
       "            <dl>\n",
       "              <dt>Version</dt>\n",
       "                <dd><code>v3.5.1</code></dd>\n",
       "              <dt>Master</dt>\n",
       "                <dd><code>yarn</code></dd>\n",
       "              <dt>AppName</dt>\n",
       "                <dd><code>PySparkShell</code></dd>\n",
       "            </dl>\n",
       "        </div>\n",
       "        \n",
       "            </div>\n",
       "        "
      ],
      "text/plain": [
       "<pyspark.sql.session.SparkSession at 0x7f867be80c10>"
      ]
     },
     "execution_count": 2,
     "metadata": {},
     "output_type": "execute_result"
    }
   ],
   "source": [
    "spark"
   ]
  },
  {
   "cell_type": "markdown",
   "metadata": {},
   "source": [
    "# Set Up"
   ]
  },
  {
   "cell_type": "code",
   "execution_count": 3,
   "metadata": {},
   "outputs": [],
   "source": [
    "import pandas as pd\n",
    "from google.cloud import storage\n",
    "from io import BytesIO\n",
    "from datetime import datetime, date\n",
    "import matplotlib.pyplot as plt\n",
    "import holidays\n",
    "\n",
    "import pyspark\n",
    "from pyspark.sql import SparkSession\n",
    "from pyspark.sql.functions import col, isnan, when, count, udf, to_date, year, month, date_format, size, split, dayofweek\n",
    "from pyspark.sql import functions as F\n",
    "from pyspark.ml.feature import StringIndexer, OneHotEncoder, VectorAssembler, StandardScaler, MinMaxScaler\n",
    "from pyspark.ml.regression import LinearRegression\n",
    "from pyspark.ml.classification import LogisticRegression\n",
    "from pyspark.ml.evaluation import BinaryClassificationEvaluator\n",
    "from pyspark.ml.tuning import CrossValidator, ParamGridBuilder\n",
    "from pyspark.ml.evaluation import RegressionEvaluator\n",
    "from pyspark.mllib.evaluation import MulticlassMetrics\n",
    "from pyspark.ml import Pipeline\n",
    "\n",
    "\n"
   ]
  },
  {
   "cell_type": "code",
   "execution_count": 4,
   "metadata": {
    "tags": []
   },
   "outputs": [],
   "source": [
    "bucket_name = 'my-bigdataproject-jg'\n",
    "gs_path  = f'gs://{bucket_name}/'\n",
    "cleaned_folder = 'cleaned/'\n",
    "destination_folder = 'code_and_models/'\n",
    "\n",
    "storage_client = storage.Client() \n",
    "bucket = storage_client.get_bucket(bucket_name)"
   ]
  },
  {
   "cell_type": "markdown",
   "metadata": {},
   "source": [
    "# Weather DF"
   ]
  },
  {
   "cell_type": "code",
   "execution_count": 5,
   "metadata": {},
   "outputs": [
    {
     "name": "stderr",
     "output_type": "stream",
     "text": [
      "                                                                                \r"
     ]
    },
    {
     "name": "stdout",
     "output_type": "stream",
     "text": [
      "root\n",
      " |-- datetime: string (nullable = true)\n",
      " |-- temp: double (nullable = true)\n",
      " |-- feelslike: double (nullable = true)\n",
      " |-- precip: double (nullable = true)\n",
      " |-- snow_precip: double (nullable = true)\n",
      " |-- snowdepth: double (nullable = true)\n",
      " |-- windspeed: double (nullable = true)\n",
      " |-- uvindex: long (nullable = true)\n",
      " |-- conditions: string (nullable = true)\n",
      " |-- weather_borough: string (nullable = true)\n",
      "\n"
     ]
    }
   ],
   "source": [
    "weather_files = gs_path + cleaned_folder + 'weather_data_*.parquet'\n",
    "weather_df = spark.read.parquet(weather_files)\n",
    "\n",
    "\"\"\"\n",
    "Drop columns:\n",
    "tempmax\n",
    "tempmin\n",
    "feelslikemax\n",
    "feelslikemin\n",
    "preciptype\n",
    "cloudcover\n",
    "\n",
    "visibility\n",
    "humidity\n",
    "\n",
    "Keep columns:\n",
    "datetime\n",
    "borough\n",
    "\n",
    "temp\n",
    "feelslike\n",
    "precip\n",
    "snow\n",
    "snowdepth\n",
    "windspeed\n",
    "uvindex\n",
    "conditions\n",
    "\"\"\"\n",
    "\n",
    "weather_df = weather_df.drop('tempmax', 'tempmin', 'feelslikemax', 'feelslikemin', 'preciptype', 'cloudcover', 'visibility', 'humidity')\n",
    "\n",
    "weather_df = weather_df.withColumnRenamed('borough', 'weather_borough')\n",
    "weather_df = weather_df.withColumnRenamed('snow', 'snow_precip')\n",
    "\n",
    "weather_df.printSchema()"
   ]
  },
  {
   "cell_type": "code",
   "execution_count": 6,
   "metadata": {},
   "outputs": [
    {
     "name": "stderr",
     "output_type": "stream",
     "text": [
      "24/12/04 00:14:21 WARN SparkStringUtils: Truncated the string representation of a plan since it was too large. This behavior can be adjusted by setting 'spark.sql.debug.maxToStringFields'.\n",
      "                                                                                \r"
     ]
    },
    {
     "name": "stdout",
     "output_type": "stream",
     "text": [
      "+-------+------------------+-----------------+-------------------+-------------------+-------------------+-----------------+-----------------+\n",
      "|summary|              temp|        feelslike|             precip|        snow_precip|          snowdepth|        windspeed|          uvindex|\n",
      "+-------+------------------+-----------------+-------------------+-------------------+-------------------+-----------------+-----------------+\n",
      "|  count|              5475|             5475|               5475|               5475|               5475|             5475|             5475|\n",
      "|   mean| 57.17919634703195|55.23545205479445|0.12681570776255707|0.03786301369863015|0.11643835616438351|14.15684018264841|5.686027397260274|\n",
      "| stddev|16.273021692774368|19.23574328297584|0.37855930890161854| 0.3077078853750881| 0.7482338903611033|4.747084010340972| 2.64903871604182|\n",
      "|    min|              11.2|             -7.7|                0.0|                0.0|                0.0|              4.0|                0|\n",
      "|    25%|              44.0|             39.8|                0.0|                0.0|                0.0|             10.7|                4|\n",
      "|    50%|              57.4|             57.1|                0.0|                0.0|                0.0|             13.4|                6|\n",
      "|    75%|              71.6|             71.5|              0.064|                0.0|                0.0|             16.9|                8|\n",
      "|    max|              89.4|             95.0|              7.403|                6.5|               13.0|             37.1|               10|\n",
      "+-------+------------------+-----------------+-------------------+-------------------+-------------------+-----------------+-----------------+\n",
      "\n"
     ]
    }
   ],
   "source": [
    "# Show me summary statistics for temp, feelslike, precip, snow_precip, snowdepth, windspeed, uvindex\n",
    "weather_df.select('temp', 'feelslike', 'precip', 'snow_precip', 'snowdepth', 'windspeed', 'uvindex').summary().show()"
   ]
  },
  {
   "cell_type": "markdown",
   "metadata": {},
   "source": [
    "# Taxi Trips DF"
   ]
  },
  {
   "cell_type": "code",
   "execution_count": 7,
   "metadata": {},
   "outputs": [
    {
     "name": "stderr",
     "output_type": "stream",
     "text": [
      "                                                                                \r"
     ]
    },
    {
     "name": "stdout",
     "output_type": "stream",
     "text": [
      "root\n",
      " |-- pickup_datetime: timestamp_ntz (nullable = true)\n",
      " |-- dropoff_datetime: timestamp_ntz (nullable = true)\n",
      " |-- passenger_count: integer (nullable = true)\n",
      " |-- trip_distance: double (nullable = true)\n",
      " |-- RatecodeID: integer (nullable = true)\n",
      " |-- PULocationID: long (nullable = true)\n",
      " |-- DOLocationID: long (nullable = true)\n",
      " |-- fare_amount: double (nullable = true)\n",
      " |-- tip_amount: double (nullable = true)\n",
      " |-- total_amount: double (nullable = true)\n",
      " |-- tip_percentage: double (nullable = true)\n",
      "\n"
     ]
    }
   ],
   "source": [
    "taxi_files = gs_path + cleaned_folder + \"taxi_data/*.parquet\"\n",
    "taxi_df = spark.read.parquet(taxi_files)\n",
    "taxi_df.printSchema()"
   ]
  },
  {
   "cell_type": "code",
   "execution_count": 8,
   "metadata": {},
   "outputs": [
    {
     "name": "stderr",
     "output_type": "stream",
     "text": [
      "[Stage 8:>                                                          (0 + 1) / 1]\r"
     ]
    },
    {
     "name": "stdout",
     "output_type": "stream",
     "text": [
      "+-----------+--------+\n",
      "|time_of_day|   count|\n",
      "+-----------+--------+\n",
      "|  Afternoon|59396803|\n",
      "|      Night|21683603|\n",
      "|    Morning|24465906|\n",
      "+-----------+--------+\n",
      "\n"
     ]
    },
    {
     "name": "stderr",
     "output_type": "stream",
     "text": [
      "                                                                                \r"
     ]
    }
   ],
   "source": [
    "# create a new column pickup_date, which the date using the pickup_datetime column\n",
    "taxi_df = taxi_df.withColumn('pickup_date', to_date(col('pickup_datetime')))\n",
    "\n",
    "\n",
    "# Create hour_of_day column from pickup_datetime\n",
    "taxi_df = taxi_df.withColumn('hour_of_day', F.hour(col('pickup_datetime')))\n",
    "# Create a time_of_day column based on hour_of_day\n",
    "taxi_df = taxi_df.withColumn('time_of_day', when((col('hour_of_day') >= 5) & (col('hour_of_day') < 12), 'Morning').when((col('hour_of_day') >= 12) & (col('hour_of_day') < 21), 'Afternoon').otherwise('Night'))\n",
    "# Show the number of records for each unique time_of_day\n",
    "taxi_df.groupBy('time_of_day').count().show()\n",
    "\n"
   ]
  },
  {
   "cell_type": "code",
   "execution_count": 9,
   "metadata": {},
   "outputs": [
    {
     "name": "stderr",
     "output_type": "stream",
     "text": [
      "[Stage 9:======================================================>  (23 + 1) / 24]\r"
     ]
    },
    {
     "name": "stdout",
     "output_type": "stream",
     "text": [
      "+----------+--------+\n",
      "|group_size|   count|\n",
      "+----------+--------+\n",
      "|         1|75459398|\n",
      "|         3|14622979|\n",
      "|         2|15463935|\n",
      "+----------+--------+\n",
      "\n"
     ]
    },
    {
     "name": "stderr",
     "output_type": "stream",
     "text": [
      "                                                                                \r"
     ]
    }
   ],
   "source": [
    "# Create a new column, group_size, based on the number of passengers\n",
    "# group_size is 1 if num_passengers is 1\n",
    "# group_size is 2 if num_passengers is 2\n",
    "# group_size is 3 if num_passengers is greater than 3\n",
    "taxi_df = taxi_df.withColumn('group_size', when(col('passenger_count') == 1, 1).when(col('passenger_count') == 2, 2).otherwise(3))\n",
    "\n",
    "# Show the number of records for each unique group_size\n",
    "taxi_df.groupBy('group_size').count().show()\n"
   ]
  },
  {
   "cell_type": "code",
   "execution_count": 10,
   "metadata": {},
   "outputs": [],
   "source": [
    "# Remove the records with RatecodeID = 99 \n",
    "taxi_df = taxi_df.filter(col('RatecodeID') != 99)\n",
    "\n",
    "# Remove the records passenger_count = 0\n",
    "taxi_df = taxi_df.filter(col('passenger_count') != 0)\n",
    "\n",
    "# Remove the records with fare_amount < 3.70 (minimum fare amount)\n",
    "taxi_df = taxi_df.filter(col('fare_amount') >= 3.70)\n",
    "\n",
    "# Remove the records with total_amount <= 4.20 (minimum total amount)\n",
    "taxi_df = taxi_df.filter(col('total_amount') > 4.20)\n",
    "\n",
    "# Remove the records with trip_distance < 1/5 mile\n",
    "taxi_df = taxi_df.filter((col('trip_distance') >= 0.2) & (col('trip_distance') <= 45))\n",
    "\n",
    "# Round the tip_percentage to 2 decimal places\n",
    "taxi_df = taxi_df.withColumn('tip_percentage', F.round(col('tip_percentage'), 2))\n",
    "\n",
    "\n",
    "taxi_df = taxi_df.drop('dropoff_datetime', 'RatecodeID', 'payment_type', 'total_amount', 'pickup_datetime', 'tip_amount', 'hour_of_day')\n"
   ]
  },
  {
   "cell_type": "markdown",
   "metadata": {},
   "source": [
    "# Taxi Zone DF"
   ]
  },
  {
   "cell_type": "code",
   "execution_count": 11,
   "metadata": {},
   "outputs": [
    {
     "name": "stdout",
     "output_type": "stream",
     "text": [
      "root\n",
      " |-- LocationID: long (nullable = true)\n",
      " |-- borough: string (nullable = true)\n",
      "\n"
     ]
    }
   ],
   "source": [
    "taxi_zone_file = gs_path + cleaned_folder + 'taxi_zones_data.parquet'\n",
    "taxi_zone_df = spark.read.parquet(taxi_zone_file)\n",
    "taxi_zone_df = taxi_zone_df.drop('zone')\n",
    "taxi_zone_df.printSchema()\n"
   ]
  },
  {
   "cell_type": "markdown",
   "metadata": {},
   "source": [
    "## Taxi data frames combined"
   ]
  },
  {
   "cell_type": "code",
   "execution_count": 12,
   "metadata": {},
   "outputs": [
    {
     "name": "stdout",
     "output_type": "stream",
     "text": [
      "root\n",
      " |-- passenger_count: integer (nullable = true)\n",
      " |-- trip_distance: double (nullable = true)\n",
      " |-- fare_amount: double (nullable = true)\n",
      " |-- tip_percentage: double (nullable = true)\n",
      " |-- pickup_date: date (nullable = true)\n",
      " |-- time_of_day: string (nullable = false)\n",
      " |-- group_size: integer (nullable = false)\n",
      " |-- PUBorough: string (nullable = true)\n",
      " |-- DOBorough: string (nullable = true)\n",
      "\n"
     ]
    }
   ],
   "source": [
    "# PU Location join\n",
    "taxi_df = taxi_df.join(taxi_zone_df, taxi_df.PULocationID == taxi_zone_df.LocationID, how='left')\n",
    "\n",
    "\n",
    "taxi_df = taxi_df.withColumnRenamed('Borough', 'PUBorough')\n",
    "taxi_df = taxi_df.drop('LocationID')\n",
    "\n",
    "# DO Location join\n",
    "taxi_df = taxi_df.join(taxi_zone_df, taxi_df.DOLocationID == taxi_zone_df.LocationID, how='left')\n",
    "\n",
    "taxi_df = taxi_df.withColumnRenamed('Borough', 'DOBorough')\n",
    "taxi_df = taxi_df.drop('LocationID')\n",
    "\n",
    "# Drop the PULocationID and DOLocationID columns\n",
    "taxi_df = taxi_df.drop('PULocationID', 'DOLocationID')\n",
    "\n",
    "# Drop the records where the PUBorough or DOBorough is 'EWR'\n",
    "taxi_df = taxi_df.filter((taxi_df.PUBorough != 'EWR'))\n",
    "taxi_df = taxi_df.filter((taxi_df.DOBorough != 'EWR'))\n",
    "\n",
    "taxi_df.printSchema()"
   ]
  },
  {
   "cell_type": "markdown",
   "metadata": {},
   "source": [
    "# Combined Data Frame"
   ]
  },
  {
   "cell_type": "code",
   "execution_count": 13,
   "metadata": {},
   "outputs": [
    {
     "name": "stdout",
     "output_type": "stream",
     "text": [
      "root\n",
      " |-- passenger_count: integer (nullable = true)\n",
      " |-- trip_distance: double (nullable = true)\n",
      " |-- fare_amount: double (nullable = true)\n",
      " |-- tip_percentage: double (nullable = true)\n",
      " |-- pickup_date: date (nullable = true)\n",
      " |-- time_of_day: string (nullable = false)\n",
      " |-- group_size: integer (nullable = false)\n",
      " |-- PUBorough: string (nullable = true)\n",
      " |-- DOBorough: string (nullable = true)\n",
      " |-- temp: double (nullable = true)\n",
      " |-- feelslike: double (nullable = true)\n",
      " |-- precip: double (nullable = true)\n",
      " |-- snow_precip: double (nullable = true)\n",
      " |-- snowdepth: double (nullable = true)\n",
      " |-- windspeed: double (nullable = true)\n",
      " |-- uvindex: long (nullable = true)\n",
      " |-- conditions: string (nullable = true)\n",
      "\n"
     ]
    }
   ],
   "source": [
    "combined_df = taxi_df.join(weather_df, [taxi_df.pickup_date == weather_df.datetime, taxi_df.PUBorough == weather_df.weather_borough])\n",
    "\n",
    "combined_df = combined_df.drop('datetime')\n",
    "combined_df = combined_df.drop('weather_borough')\n",
    "\n",
    "combined_df.printSchema()\n"
   ]
  },
  {
   "cell_type": "code",
   "execution_count": 14,
   "metadata": {
    "tags": []
   },
   "outputs": [
    {
     "name": "stderr",
     "output_type": "stream",
     "text": [
      "[Stage 18:>                                                         (0 + 1) / 1]\r"
     ]
    },
    {
     "name": "stdout",
     "output_type": "stream",
     "text": [
      "+-------+------------------+-----------------+------------------+------------------+\n",
      "|summary|    tip_percentage|    trip_distance|       fare_amount|   passenger_count|\n",
      "+-------+------------------+-----------------+------------------+------------------+\n",
      "|  count|          97396100|         97396100|          97396100|          97396100|\n",
      "|   mean|12.140664593522418|3.305880956526879|15.443503129178547|1.4280359377839564|\n",
      "| stddev|   7.6899167944327|4.095159301490462|13.189977173150398|0.9526656644157758|\n",
      "|    min|               0.0|              0.2|               3.7|                 1|\n",
      "|    25%|              5.95|             1.11|               7.5|                 1|\n",
      "|    50%|             16.61|             1.83|              11.0|                 1|\n",
      "|    75%|             16.67|             3.33|              17.0|                 1|\n",
      "|    max|             95.62|             45.0|             248.0|                 7|\n",
      "+-------+------------------+-----------------+------------------+------------------+\n",
      "\n"
     ]
    },
    {
     "name": "stderr",
     "output_type": "stream",
     "text": [
      "                                                                                \r"
     ]
    }
   ],
   "source": [
    "# Summarize the columns: tip_percentage, trip_distance, fare_amount, passenger_count\n",
    "combined_df.select('tip_percentage', 'trip_distance', 'fare_amount', 'passenger_count').summary().show()"
   ]
  },
  {
   "cell_type": "markdown",
   "metadata": {},
   "source": [
    "# Tip Label"
   ]
  },
  {
   "cell_type": "code",
   "execution_count": 15,
   "metadata": {},
   "outputs": [
    {
     "name": "stderr",
     "output_type": "stream",
     "text": [
      "[Stage 22:=====================================================>  (23 + 1) / 24]\r"
     ]
    },
    {
     "name": "stdout",
     "output_type": "stream",
     "text": [
      "+---------+--------+\n",
      "|tip_class|   count|\n",
      "+---------+--------+\n",
      "|        1|55964222|\n",
      "|        0|41431878|\n",
      "+---------+--------+\n",
      "\n"
     ]
    },
    {
     "name": "stderr",
     "output_type": "stream",
     "text": [
      "                                                                                \r"
     ]
    }
   ],
   "source": [
    "# Tip Class column\n",
    "# When tip_percentage >= 15, tip_class is 1, otherwise 0\n",
    "combined_df = combined_df.withColumn('tip_class', when(col('tip_percentage') >= 15, 1).otherwise(0))\n",
    "\n",
    "# Show the number of records for each unqiue tip_class\n",
    "combined_df.groupBy('tip_class').count().show()\n"
   ]
  },
  {
   "cell_type": "markdown",
   "metadata": {},
   "source": [
    "# Datetime features"
   ]
  },
  {
   "cell_type": "code",
   "execution_count": 16,
   "metadata": {},
   "outputs": [
    {
     "name": "stderr",
     "output_type": "stream",
     "text": [
      "                                                                                \r"
     ]
    }
   ],
   "source": [
    "# datetime\n",
    "\n",
    "# month\n",
    "combined_df = combined_df.withColumn('month', month(col('pickup_date')))\n",
    "# dayofweek\n",
    "combined_df = combined_df.withColumn('dayofweek', dayofweek(col('pickup_date')))\n",
    "\n",
    "# weekend\n",
    "combined_df = combined_df.withColumn('weekend', when(col('dayofweek') == 1, 1.0).when(col('dayofweek') == 7, 1.0).otherwise(0))\n",
    "\n",
    "# holiday\n",
    "combined_df = combined_df.withColumn('pickup_date', to_date(col('pickup_date')))\n",
    "\n",
    "# Get the min and max date in the datetime column\n",
    "min_date = combined_df.agg({\"pickup_date\": \"min\"}).collect()[0][0]\n",
    "max_date = combined_df.agg({\"pickup_date\": \"max\"}).collect()[0][0]\n",
    "\n",
    "\n",
    "# Get the holidays observed in New York\n",
    "us_holidays = holidays.UnitedStates(years=[min_date.year, max_date.year], observed=True, subdiv='NY')\n",
    "\n",
    "#print(us_holidays)\n",
    "\n",
    "# Keep only the dates of the holidays\n",
    "us_holidays = list(us_holidays.keys())\n",
    "\n",
    "# Create a new column holiday and set it to 1 if the date is a holiday, 0 otherwise\n",
    "combined_df = combined_df.withColumn('holiday', when(col('pickup_date').isin(us_holidays), 1).otherwise(0))"
   ]
  },
  {
   "cell_type": "markdown",
   "metadata": {},
   "source": [
    "# UDF Condition Features"
   ]
  },
  {
   "cell_type": "code",
   "execution_count": 17,
   "metadata": {},
   "outputs": [],
   "source": [
    "\n",
    "# Or we can use the list ['Rain', 'Snow', 'Clear', 'Ice']\n",
    "conditions = ['Rain', 'Snow', 'Clear', 'Ice']\n",
    "\n",
    "# Create a new column for each condition\n",
    "for condition in conditions:\n",
    "    combined_df = combined_df.withColumn(condition, when(col('conditions').contains(condition), 1).otherwise(0))\n"
   ]
  },
  {
   "cell_type": "markdown",
   "metadata": {},
   "source": [
    "# Pipeline"
   ]
  },
  {
   "cell_type": "markdown",
   "metadata": {},
   "source": [
    "## String Indexer"
   ]
  },
  {
   "cell_type": "code",
   "execution_count": 18,
   "metadata": {},
   "outputs": [],
   "source": [
    "# String Index columns\n",
    "indexer_input = ['PUBorough', 'DOBorough', 'time_of_day']\n",
    "indexer_output = [x + '_index' for x in indexer_input]\n",
    "indexer = StringIndexer(inputCols=indexer_input, outputCols=indexer_output)\n"
   ]
  },
  {
   "cell_type": "markdown",
   "metadata": {},
   "source": [
    "## One Hot Encoder"
   ]
  },
  {
   "cell_type": "code",
   "execution_count": 19,
   "metadata": {},
   "outputs": [],
   "source": [
    "encoder_output = [x + '_encoded' for x in indexer_input]\n",
    "encoder = OneHotEncoder(inputCols=indexer_output, outputCols=encoder_output)"
   ]
  },
  {
   "cell_type": "markdown",
   "metadata": {},
   "source": [
    "# Min Max Scaler"
   ]
  },
  {
   "cell_type": "code",
   "execution_count": 20,
   "metadata": {},
   "outputs": [],
   "source": [
    "columns_to_scale =[\n",
    "    'temp',\n",
    "    'feelslike',\n",
    "    'precip',\n",
    "    'snow_precip',\n",
    "    'snowdepth',\n",
    "    'windspeed',\n",
    "    'uvindex'\n",
    "]\n",
    "\n",
    "# assembler for scaling\n",
    "assembler_to_scale = VectorAssembler(inputCols=columns_to_scale, outputCol='features_to_scale')\n",
    "\n",
    "# MinMaxScaler\n",
    "scaler = MinMaxScaler(inputCol='features_to_scale', outputCol='scaled_features')"
   ]
  },
  {
   "cell_type": "markdown",
   "metadata": {},
   "source": [
    "## Final Vector Assembler"
   ]
  },
  {
   "cell_type": "code",
   "execution_count": 21,
   "metadata": {},
   "outputs": [
    {
     "name": "stdout",
     "output_type": "stream",
     "text": [
      "['PUBorough_encoded', 'DOBorough_encoded', 'time_of_day_encoded', 'month', 'dayofweek', 'weekend', 'holiday', 'trip_distance', 'group_size', 'fare_amount', 'Rain', 'Snow', 'Clear', 'Ice', 'scaled_features']\n"
     ]
    }
   ],
   "source": [
    "\"\"\"\n",
    "temp\n",
    "feelslike\n",
    "precip\n",
    "snow\n",
    "snowdepth\n",
    "windspeed\n",
    "uvindex\n",
    "conditions\n",
    " 'month', 'dayofweek', 'weekend', 'holiday', 'trip_distance', 'group_size', 'fare_amount'\n",
    "\"\"\"\n",
    "\n",
    "assemble_directly = [\n",
    "    'month',\n",
    "    'dayofweek',\n",
    "    'weekend',\n",
    "    'holiday',\n",
    "    'trip_distance',\n",
    "    'group_size',\n",
    "    'fare_amount'\n",
    "]\n",
    "\n",
    "\n",
    "input_cols =  encoder_output + assemble_directly + conditions + ['scaled_features']\n",
    "print(input_cols)"
   ]
  },
  {
   "cell_type": "code",
   "execution_count": 22,
   "metadata": {},
   "outputs": [],
   "source": [
    "assembler = VectorAssembler(inputCols=input_cols, outputCol='features')"
   ]
  },
  {
   "cell_type": "markdown",
   "metadata": {},
   "source": [
    "# Save the pipeline with features"
   ]
  },
  {
   "cell_type": "code",
   "execution_count": 23,
   "metadata": {
    "tags": []
   },
   "outputs": [
    {
     "name": "stdout",
     "output_type": "stream",
     "text": [
      "Saving the transformed data...\n"
     ]
    },
    {
     "name": "stderr",
     "output_type": "stream",
     "text": [
      "                                                                                \r"
     ]
    },
    {
     "name": "stdout",
     "output_type": "stream",
     "text": [
      "Transformed data saved!\n"
     ]
    }
   ],
   "source": [
    "print('Saving the transformed data...')\n",
    "# Create a new frame with the transformed data\n",
    "pipeline = Pipeline(stages=[indexer, encoder, assembler_to_scale, scaler, assembler])\n",
    "model = pipeline.fit(combined_df)\n",
    "transformed_df = model.transform(combined_df)\n",
    "\n",
    "# Save the transformed data\n",
    "transformed_df.write.parquet(gs_path + destination_folder + 'features', mode='overwrite')\n",
    "print('Transformed data saved!')"
   ]
  },
  {
   "cell_type": "markdown",
   "metadata": {},
   "source": [
    "# Train / Test"
   ]
  },
  {
   "cell_type": "code",
   "execution_count": 24,
   "metadata": {},
   "outputs": [],
   "source": [
    "train_df, test_df = combined_df.randomSplit([0.7, 0.3], seed=42)"
   ]
  },
  {
   "cell_type": "markdown",
   "metadata": {},
   "source": [
    "# Pipeline  "
   ]
  },
  {
   "cell_type": "code",
   "execution_count": 25,
   "metadata": {},
   "outputs": [],
   "source": [
    "lr = LogisticRegression(featuresCol='features', labelCol='tip_class', maxIter=10, regParam=0.1, elasticNetParam=0.8)"
   ]
  },
  {
   "cell_type": "code",
   "execution_count": 26,
   "metadata": {},
   "outputs": [],
   "source": [
    "lr_pipeline = Pipeline(stages=[\n",
    "    indexer,\n",
    "    encoder,\n",
    "    assembler_to_scale,\n",
    "    scaler,\n",
    "    assembler,\n",
    "    lr\n",
    "])"
   ]
  },
  {
   "cell_type": "markdown",
   "metadata": {},
   "source": [
    "# Cross validating"
   ]
  },
  {
   "cell_type": "code",
   "execution_count": 27,
   "metadata": {},
   "outputs": [
    {
     "name": "stdout",
     "output_type": "stream",
     "text": [
      "Number of models to be tested:  18\n"
     ]
    },
    {
     "name": "stderr",
     "output_type": "stream",
     "text": [
      "                                                                                \r"
     ]
    }
   ],
   "source": [
    "grid = ParamGridBuilder()\n",
    "grid = grid.addGrid(lr.regParam, [0.0, 0.2, 0.4, 0.6, 0.8, 1.0])\n",
    "grid = grid.addGrid(lr.elasticNetParam, [0, 0.5, 1])\n",
    "grid = grid.build()\n",
    "\n",
    "print('Number of models to be tested: ', len(grid))\n",
    "\n",
    "# Binary classification evaluator with area under ROC as the metric\n",
    "evaluator = BinaryClassificationEvaluator(labelCol='tip_class', metricName='areaUnderROC')\n",
    "\n",
    "\n",
    "cv = CrossValidator(\n",
    "    estimator=lr_pipeline,\n",
    "    estimatorParamMaps=grid,\n",
    "    evaluator=evaluator,\n",
    "    numFolds=3\n",
    ")\n",
    "\n",
    "all_models = cv.fit(train_df)\n",
    "\n"
   ]
  },
  {
   "cell_type": "code",
   "execution_count": 28,
   "metadata": {},
   "outputs": [
    {
     "name": "stderr",
     "output_type": "stream",
     "text": [
      "                                                                                \r"
     ]
    },
    {
     "name": "stdout",
     "output_type": "stream",
     "text": [
      "AUC: 0.5239737326719903\n"
     ]
    },
    {
     "name": "stderr",
     "output_type": "stream",
     "text": [
      "                                                                                \r"
     ]
    },
    {
     "name": "stdout",
     "output_type": "stream",
     "text": [
      "+---------+----------+--------+\n",
      "|tip_class|prediction|   count|\n",
      "+---------+----------+--------+\n",
      "|        1|       1.0|16432056|\n",
      "|        0|       0.0|  563152|\n",
      "|        0|       1.0|11863179|\n",
      "|        1|       0.0|  361321|\n",
      "+---------+----------+--------+\n",
      "\n"
     ]
    },
    {
     "name": "stderr",
     "output_type": "stream",
     "text": [
      "[Stage 1811:===================================================>  (23 + 1) / 24]\r"
     ]
    },
    {
     "name": "stdout",
     "output_type": "stream",
     "text": [
      "Accuracy: 0.4183648926265793\n",
      "Precision: 0.41926419766437706\n",
      "Recall: 0.9546807500942958\n",
      "F1 Score: 0.5826484669081734\n"
     ]
    },
    {
     "name": "stderr",
     "output_type": "stream",
     "text": [
      "                                                                                \r"
     ]
    }
   ],
   "source": [
    "# predictions\n",
    "predictions = all_models.transform(test_df)\n",
    "\n",
    "# Calculate the AUC\n",
    "auc = evaluator.evaluate(predictions)\n",
    "\n",
    "print(f\"AUC: {auc}\")\n",
    "\n",
    "# Create a confusion matrix\n",
    "predictions.groupby('tip_class', 'prediction').count().show()\n",
    "cm = predictions.groupby('tip_class').pivot('prediction').count().fillna(0).collect()\n",
    "\n",
    "def calculate_metrics(cm):\n",
    "    tn = cm[0][1]                # True Negative\n",
    "    fp = cm[0][2]                # False Positive\n",
    "    fn = cm[1][1]                # False Negative\n",
    "    tp = cm[1][2]                # True Positive\n",
    "    accuracy = (tp + tn) / (tp + fp + tn + fn)\n",
    "    precision = tp / (tp + fp)\n",
    "    recall = tp / (tp + fn)\n",
    "    f1 = 2 * (precision * recall) / (precision + recall)\n",
    "    return accuracy, precision, recall, f1\n",
    "\n",
    "accuracy, precision, recall, f1 = calculate_metrics(cm)\n",
    "print(f'Accuracy: {accuracy}')\n",
    "print(f'Precision: {precision}')\n",
    "print(f'Recall: {recall}')\n",
    "print(f'F1 Score: {f1}')"
   ]
  },
  {
   "cell_type": "code",
   "execution_count": 29,
   "metadata": {},
   "outputs": [
    {
     "name": "stdout",
     "output_type": "stream",
     "text": [
      "Best Model Stages: \n",
      "[StringIndexerModel: uid=StringIndexer_3dd4373591bf, handleInvalid=error, numInputCols=3, numOutputCols=3, OneHotEncoderModel: uid=OneHotEncoder_e7f158ac09eb, dropLast=true, handleInvalid=error, numInputCols=3, numOutputCols=3, VectorAssembler_e727697f3128, MinMaxScalerModel: uid=MinMaxScaler_35bcfb89073d, numFeatures=7, min=0.0, max=1.0, VectorAssembler_06a37f31975a, LogisticRegressionModel: uid=LogisticRegression_d96965a953da, numClasses=2, numFeatures=28]\n"
     ]
    },
    {
     "name": "stderr",
     "output_type": "stream",
     "text": [
      "                                                                                \r"
     ]
    },
    {
     "data": {
      "image/png": "[encoded data removed]",
      "text/plain": [
       "<Figure size 500x500 with 1 Axes>"
      ]
     },
     "metadata": {},
     "output_type": "display_data"
    }
   ],
   "source": [
    "# Best model \n",
    "best_model = all_models.bestModel\n",
    "\n",
    "print(f\"Best Model Stages: \\n{best_model.stages}\")\n",
    "\n",
    "# Parameters of the best model\n",
    "best_model.stages[-1].extractParamMap()\n",
    "\n",
    "# Create a ROC curve\n",
    "trainingSummary = best_model.stages[-1].summary\n",
    "\n",
    "plt.figure(figsize=(5, 5))\n",
    "plt.plot(trainingSummary.roc.select('FPR').collect(),\n",
    "         trainingSummary.roc.select('TPR').collect())\n",
    "plt.xlabel('FPR')\n",
    "plt.ylabel('TPR')\n",
    "plt.title('ROC Curve')\n",
    "plt.show()\n"
   ]
  },
  {
   "cell_type": "code",
   "execution_count": 30,
   "metadata": {},
   "outputs": [
    {
     "name": "stdout",
     "output_type": "stream",
     "text": [
      "PUBorough_encoded: 0.1026303780587641\n",
      "DOBorough_encoded: -0.08122394548668956\n",
      "time_of_day_encoded: -0.14088124415205194\n",
      "month: -1.3149578224643657\n",
      "dayofweek: 0.17904632378444052\n",
      "weekend: -0.19007534101300036\n",
      "holiday: 0.11234116999779395\n",
      "trip_distance: -1.1343788063732192\n",
      "group_size: -0.07739401525212544\n",
      "fare_amount: -0.11818837064487658\n",
      "Rain: 0.005569633259161771\n",
      "Snow: 0.0009186153852676726\n",
      "Clear: -0.012358782562273194\n",
      "Ice: -0.0440748465826581\n",
      "scaled_features: 0.012158235286061591\n"
     ]
    }
   ],
   "source": [
    "coefficients = best_model.stages[-1].coefficients\n",
    "# Print the name of the features and their corresponding coefficients\n",
    "for i, col in enumerate(input_cols):\n",
    "    print(f\"{col}: {coefficients[i]}\")\n",
    "    "
   ]
  },
  {
   "cell_type": "markdown",
   "metadata": {},
   "source": [
    "# Save the Model"
   ]
  },
  {
   "cell_type": "code",
   "execution_count": 31,
   "metadata": {},
   "outputs": [
    {
     "name": "stdout",
     "output_type": "stream",
     "text": [
      "Saving the model\n"
     ]
    },
    {
     "name": "stderr",
     "output_type": "stream",
     "text": [
      "                                                                                \r"
     ]
    },
    {
     "name": "stdout",
     "output_type": "stream",
     "text": [
      "Model saved\n"
     ]
    }
   ],
   "source": [
    "# Save the model\n",
    "print('Saving the model')\n",
    "model_path = gs_path + destination_folder + 'model'\n",
    "best_model.write().overwrite().save(model_path)\n",
    "print('Model saved')"
   ]
  },
  {
   "cell_type": "code",
   "execution_count": null,
   "metadata": {},
   "outputs": [],
   "source": []
  },
  {
   "cell_type": "code",
   "execution_count": null,
   "metadata": {},
   "outputs": [],
   "source": []
  },
  {
   "cell_type": "code",
   "execution_count": null,
   "metadata": {},
   "outputs": [],
   "source": []
  },
  {
   "cell_type": "code",
   "execution_count": null,
   "metadata": {},
   "outputs": [],
   "source": []
  }
 ],
 "metadata": {
  "kernelspec": {
   "display_name": "PySpark",
   "language": "python",
   "name": "pyspark"
  },
  "language_info": {
   "codemirror_mode": {
    "name": "ipython",
    "version": 3
   },
   "file_extension": ".py",
   "mimetype": "text/x-python",
   "name": "python",
   "nbconvert_exporter": "python",
   "pygments_lexer": "ipython3",
   "version": "3.11.8"
  }
 },
 "nbformat": 4,
 "nbformat_minor": 4
}
